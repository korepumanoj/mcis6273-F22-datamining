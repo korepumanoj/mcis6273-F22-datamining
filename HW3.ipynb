{
 "cells": [
  {
   "cell_type": "markdown",
   "metadata": {},
   "source": [
    "<center>\n",
    "<h1> Data Mining/Homework3a/Fall 2022 </h1>\n",
    "<hr>\n",
    "<center>\n",
    "<h1> Objectives </h1>\n",
    "\n",
    "<h2> Learn about data exploration tools in the commercial space.  </h2>\n",
    " \n",
    "<hr>\n",
    "<h3> Course: MCIS6273 Data Mining </h3>\n",
    "\n",
    "<h3><mark>Due date: 11:59 PM, DEC 04, 2022 (Sunday)</mark></h3>\n",
    "<h3>Total Points: 10</h3>\n",
    "\n",
    "<h4>Instructor: Keith Maull </h4>\n",
    "\n",
    "\n",
    "</center>\n",
    "\n"
   ]
  },
  {
   "cell_type": "markdown",
   "metadata": {},
   "source": [
    "### Student Details\n",
    "* Name: Manoj Korepu\n",
    "* Student ID: 999901236\n",
    "* Date:12/02/2022\n",
    "* Time: 10:00 AM\n",
    "\n",
    "* zotero userID: Mkorepu\n",
    "* zotero Reg EmailID: manoj.korepu@gmail.com"
   ]
  },
  {
   "cell_type": "markdown",
   "metadata": {},
   "source": [
    "### 1. List 3 things you learned from this podcast and relate them to things you have experienced in this course\n",
    "\n",
    "* Ryan nicely explained about the product his company has built up for creating ease for business/operations team for their regular activities related to data without involvement of the data analytics team. \n",
    "* I feel the need of data analytics elimination for some adhoc tasks is really helpful for data team to focus on big strategic analysis for the betterment of the business.\n",
    "* I can relate to the podcast with the vision of writing similar basic codes for easy EDA and data cleanig with standardized data cleaning operations which is really important but time consuming. I am inspired to write generalized code similar to the canvas product, at least for own ease"
   ]
  },
  {
   "cell_type": "markdown",
   "metadata": {},
   "source": [
    "### 2. What motivated the core Canvas company business, and what product space did it emerge from? Your answer should include mentioning data and management team concerns.\n",
    "\n",
    "* As explined by Ryan in his interview, most people use google sheets / spreadsheets for their regular use as BI tools. They rely on csvs, excels for making pivots and other things as they lack coding and SQL skills. For the data in these spreadsheets as well, they need to rely on data team. \n",
    "* This was real motivating thing for canvas team to make such a product which will easily do their required tasks without the use of SQL. \n"
   ]
  },
  {
   "cell_type": "markdown",
   "metadata": {},
   "source": [
    "### 3. What problem does Canvas solve?Please include details from what Ryan mentions in his interview.\n",
    "\n",
    "* Canvas is a spreadsheet like interface specifically made for non-technical teams in a company. The majorly focussed market for Canvas is small businesses which do not have dedicated data teams or the ones who do not have cloud storage. \n",
    "* The problem canvas solved by providing such an interface is that, it reduced the time consumed for less skilled people to look at the data and made the decision making faster which is really important thing for the business management teams"
   ]
  },
  {
   "cell_type": "markdown",
   "metadata": {},
   "source": [
    "### 4. What or who are the target market for the Canvas project?\n",
    "\n",
    "*   According to Ryan, the target market for canvas is the small businesses which do no have dedicated data teams or storage of data in not upto the levels of giant companies. They want to pitch their product specifically to the business management teams who need faster ways of dealing with the data without relying on the data people\n"
   ]
  },
  {
   "cell_type": "markdown",
   "metadata": {},
   "source": [
    "### 5. In two or three sentences relate what you learned about data analysis among non-data scientists with what you learned in the podcast. Be complete, but brief (no more than 3 sentences, please)\n",
    "\n",
    "* I learned that, the regular tasks what operations teams asks to do to Data analytics team are time consuimg for both the teams, making the business slower. I learned importance of time in today's market. The time is the main factor which is real motivation to the companies to buy such a product, the task of which could be done by the people of the companies itself. "
   ]
  },
  {
   "cell_type": "markdown",
   "metadata": {},
   "source": []
  }
 ],
 "metadata": {
  "kernelspec": {
   "display_name": "Python 3 (ipykernel)",
   "language": "python",
   "name": "python3"
  },
  "language_info": {
   "codemirror_mode": {
    "name": "ipython",
    "version": 3
   },
   "file_extension": ".py",
   "mimetype": "text/x-python",
   "name": "python",
   "nbconvert_exporter": "python",
   "pygments_lexer": "ipython3",
   "version": "3.9.7"
  },
  "vscode": {
   "interpreter": {
    "hash": "aee8b7b246df8f9039afb4144a1f6fd8d2ca17a180786b69acc140d282b71a49"
   }
  }
 },
 "nbformat": 4,
 "nbformat_minor": 2
}
